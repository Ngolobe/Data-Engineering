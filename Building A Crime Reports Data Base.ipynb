{
 "cells": [
  {
   "cell_type": "markdown",
   "metadata": {},
   "source": [
    "# Building A Crime Reports Database: PostgreSQL.\n",
    "\n",
    "In this project we will be building a database for crime reports in boston. The data is available to us in form of a csv file, **boston.csv**.\n",
    "\n",
    "We will save this data in a table named boston_crimes which will be located in a schema named crimes. We shall name our database crime_db.\n",
    "\n",
    "We will also create two groups **readonly** and **readwrite** with appropriate privileges. And we shall then create a user for each of the above-mentioned groups.\n",
    "\n",
    "Below are the first few rows of our data."
   ]
  },
  {
   "cell_type": "code",
   "execution_count": 1,
   "metadata": {},
   "outputs": [
    {
     "data": {
      "text/plain": [
       "0              1\n",
       "1              2\n",
       "2              3\n",
       "3              4\n",
       "4              5\n",
       "           ...  \n",
       "298324    298325\n",
       "298325    298326\n",
       "298326    298327\n",
       "298327    298328\n",
       "298328    298329\n",
       "Name: incident_number, Length: 298329, dtype: int64"
      ]
     },
     "execution_count": 1,
     "metadata": {},
     "output_type": "execute_result"
    }
   ],
   "source": [
    "import pandas as pd\n",
    "data = pd.read_csv('boston.csv')\n",
    "# data.head()\n",
    "data['incident_number']"
   ]
  },
  {
   "cell_type": "markdown",
   "metadata": {},
   "source": [
    "Below is an illustration of what we intend to acheive: at a higher level.\n",
    "![work overview](https://dq-content.s3.amazonaws.com/250/goal.png)"
   ]
  },
  {
   "cell_type": "markdown",
   "metadata": {},
   "source": [
    "## The Crime Database\n",
    "We shall now create the crime database and name it **crime_db**. Also we shall create a schema called **crimes**"
   ]
  },
  {
   "cell_type": "code",
   "execution_count": 2,
   "metadata": {},
   "outputs": [
    {
     "ename": "DuplicateDatabase",
     "evalue": "database \"crime_db\" already exists\n",
     "output_type": "error",
     "traceback": [
      "\u001b[0;31m---------------------------------------------------------------------------\u001b[0m",
      "\u001b[0;31mDuplicateDatabase\u001b[0m                         Traceback (most recent call last)",
      "\u001b[0;32m<ipython-input-2-5c4d1f7efd99>\u001b[0m in \u001b[0;36m<module>\u001b[0;34m\u001b[0m\n\u001b[1;32m      4\u001b[0m \u001b[0mconn\u001b[0m\u001b[0;34m.\u001b[0m\u001b[0mautocommit\u001b[0m \u001b[0;34m=\u001b[0m \u001b[0;32mTrue\u001b[0m\u001b[0;34m\u001b[0m\u001b[0;34m\u001b[0m\u001b[0m\n\u001b[1;32m      5\u001b[0m \u001b[0mcur\u001b[0m \u001b[0;34m=\u001b[0m \u001b[0mconn\u001b[0m\u001b[0;34m.\u001b[0m\u001b[0mcursor\u001b[0m\u001b[0;34m(\u001b[0m\u001b[0;34m)\u001b[0m\u001b[0;34m\u001b[0m\u001b[0;34m\u001b[0m\u001b[0m\n\u001b[0;32m----> 6\u001b[0;31m \u001b[0mcur\u001b[0m\u001b[0;34m.\u001b[0m\u001b[0mexecute\u001b[0m\u001b[0;34m(\u001b[0m\u001b[0;34m'CREATE DATABASE crime_db;'\u001b[0m\u001b[0;34m)\u001b[0m\u001b[0;34m\u001b[0m\u001b[0;34m\u001b[0m\u001b[0m\n\u001b[0m\u001b[1;32m      7\u001b[0m \u001b[0mconn\u001b[0m\u001b[0;34m.\u001b[0m\u001b[0mclose\u001b[0m\u001b[0;34m(\u001b[0m\u001b[0;34m)\u001b[0m\u001b[0;34m\u001b[0m\u001b[0;34m\u001b[0m\u001b[0m\n",
      "\u001b[0;31mDuplicateDatabase\u001b[0m: database \"crime_db\" already exists\n"
     ]
    }
   ],
   "source": [
    "import psycopg2\n",
    "#creating our database\n",
    "conn = psycopg2.connect(dbname='dq', user='dq')\n",
    "conn.autocommit = True\n",
    "cur = conn.cursor()\n",
    "cur.execute('CREATE DATABASE crime_db;')\n",
    "conn.close()"
   ]
  },
  {
   "cell_type": "code",
   "execution_count": 3,
   "metadata": {},
   "outputs": [
    {
     "ename": "DuplicateSchema",
     "evalue": "schema \"crimes\" already exists\n",
     "output_type": "error",
     "traceback": [
      "\u001b[0;31m---------------------------------------------------------------------------\u001b[0m",
      "\u001b[0;31mDuplicateSchema\u001b[0m                           Traceback (most recent call last)",
      "\u001b[0;32m<ipython-input-3-bcdbc9c5db6d>\u001b[0m in \u001b[0;36m<module>\u001b[0;34m\u001b[0m\n\u001b[1;32m      3\u001b[0m \u001b[0mconn\u001b[0m\u001b[0;34m.\u001b[0m\u001b[0mautocommit\u001b[0m \u001b[0;34m=\u001b[0m \u001b[0;32mTrue\u001b[0m\u001b[0;34m\u001b[0m\u001b[0;34m\u001b[0m\u001b[0m\n\u001b[1;32m      4\u001b[0m \u001b[0mcur\u001b[0m \u001b[0;34m=\u001b[0m \u001b[0mconn\u001b[0m\u001b[0;34m.\u001b[0m\u001b[0mcursor\u001b[0m\u001b[0;34m(\u001b[0m\u001b[0;34m)\u001b[0m\u001b[0;34m\u001b[0m\u001b[0;34m\u001b[0m\u001b[0m\n\u001b[0;32m----> 5\u001b[0;31m \u001b[0mcur\u001b[0m\u001b[0;34m.\u001b[0m\u001b[0mexecute\u001b[0m\u001b[0;34m(\u001b[0m\u001b[0;34m'CREATE SCHEMA crimes;'\u001b[0m\u001b[0;34m)\u001b[0m\u001b[0;34m\u001b[0m\u001b[0;34m\u001b[0m\u001b[0m\n\u001b[0m",
      "\u001b[0;31mDuplicateSchema\u001b[0m: schema \"crimes\" already exists\n"
     ]
    }
   ],
   "source": [
    "#creating our schema\n",
    "conn = psycopg2.connect(dbname='crime_db', user='dq')\n",
    "conn.autocommit = True\n",
    "cur = conn.cursor()\n",
    "cur.execute('CREATE SCHEMA crimes;')"
   ]
  },
  {
   "cell_type": "markdown",
   "metadata": {},
   "source": [
    "## Obtaining The Column Names And Sample\n",
    "\n",
    "Let's now gather some data about our crime dataset. That way we shall be able to easily select the right datatypes to use in our table.\n"
   ]
  },
  {
   "cell_type": "code",
   "execution_count": 4,
   "metadata": {},
   "outputs": [
    {
     "name": "stdout",
     "output_type": "stream",
     "text": [
      "['incident_number', 'offense_code', 'description', 'date', 'day_of_the_week', 'lat', 'long']\n",
      "['1', '619', 'LARCENY ALL OTHERS', '2018-09-02', 'Sunday', '42.35779134', '-71.13937053']\n"
     ]
    }
   ],
   "source": [
    "#open the boston.csv file using context manager\n",
    "import csv\n",
    "with open('boston.csv','r') as f:\n",
    "    reader = csv.reader(f)\n",
    "    rows = list(reader)\n",
    "    col_headers =rows[0]\n",
    "    first_row = rows[1]\n",
    "    \n",
    "print(col_headers, first_row, sep='\\n' )"
   ]
  },
  {
   "cell_type": "markdown",
   "metadata": {},
   "source": [
    "## Creating an Auxiliary Function\n",
    "\n",
    "This returns a set of all distinct values contained in a column. \n",
    "\n",
    "This function will help us to check whether the enumerated datatype might be a good choice for representing a certain columns. \n",
    "\n",
    "The function will also help us in computing the maximum length of any text-like column - hence we will be able to select the appropriate sizes for VARCHAR columns if need be."
   ]
  },
  {
   "cell_type": "code",
   "execution_count": 5,
   "metadata": {},
   "outputs": [],
   "source": [
    "def get_col_value_set(csv_filename, col_index):\n",
    "    with open(csv_filename,'r') as f:\n",
    "        next(f)\n",
    "        reader = csv.reader(f)\n",
    "        rows = list(reader)\n",
    "        set_distinct = set()\n",
    "        for row in rows:\n",
    "            if row[col_index] not in set_distinct:\n",
    "                set_distinct.add(row[col_index])\n",
    "    return set_distinct\n",
    "           "
   ]
  },
  {
   "cell_type": "code",
   "execution_count": 6,
   "metadata": {},
   "outputs": [
    {
     "data": {
      "text/plain": [
       "{'Friday', 'Monday', 'Saturday', 'Sunday', 'Thursday', 'Tuesday', 'Wednesday'}"
      ]
     },
     "execution_count": 6,
     "metadata": {},
     "output_type": "execute_result"
    }
   ],
   "source": [
    "get_col_value_set(\"boston.csv\", 4)"
   ]
  },
  {
   "cell_type": "code",
   "execution_count": 7,
   "metadata": {},
   "outputs": [
    {
     "name": "stdout",
     "output_type": "stream",
     "text": [
      "{'incident_number': 298329, 'offense_code': 219, 'description': 239, 'date': 1177, 'day_of_the_week': 7, 'lat': 18177}\n"
     ]
    }
   ],
   "source": [
    "#we can compute the number of distinct values for each column.\n",
    "distinct_values_dic = {}\n",
    "for i in range(6):\n",
    "    col_index = i\n",
    "    column_distinct_values = get_col_value_set(\"boston.csv\", col_index)\n",
    "    number_distinct_values = len(column_distinct_values)\n",
    "    distinct_values_dic[col_headers[col_index]] = number_distinct_values\n",
    "    \n",
    "\n",
    "print(distinct_values_dic)"
   ]
  },
  {
   "cell_type": "markdown",
   "metadata": {},
   "source": [
    "## Finding The Maximum Length"
   ]
  },
  {
   "cell_type": "code",
   "execution_count": 8,
   "metadata": {},
   "outputs": [
    {
     "name": "stdout",
     "output_type": "stream",
     "text": [
      "2\n",
      "4\n"
     ]
    }
   ],
   "source": [
    "print(col_headers.index('description'))\n",
    "print(col_headers.index('day_of_the_week'))"
   ]
  },
  {
   "cell_type": "code",
   "execution_count": 9,
   "metadata": {},
   "outputs": [
    {
     "name": "stdout",
     "output_type": "stream",
     "text": [
      "The maximum length of any value in the description column is 58\n"
     ]
    }
   ],
   "source": [
    "#Using the function get_col_value_set(), \n",
    "#compute the maximum length of any value in the description column\n",
    "x = col_headers.index('description') #index for description column\n",
    "col_values = get_col_value_set(\"boston.csv\", x)#values in description\n",
    "max_len = 0\n",
    "for i in col_values:\n",
    "    max_len = max(max_len,len(i))\n",
    "print('The maximum length of any value in the description column is', max_len)"
   ]
  },
  {
   "cell_type": "code",
   "execution_count": 10,
   "metadata": {},
   "outputs": [
    {
     "data": {
      "text/plain": [
       "{'A&B HANDS, FEET, ETC.  - MED. ATTENTION REQ.',\n",
       " 'A&B ON POLICE OFFICER',\n",
       " 'ABDUCTION - INTICING',\n",
       " 'AFFRAY',\n",
       " 'AIRCRAFT INCIDENTS',\n",
       " 'ANIMAL ABUSE',\n",
       " 'ANIMAL CONTROL - DOG BITES - ETC.',\n",
       " 'ANIMAL INCIDENTS',\n",
       " 'ANNOYING AND ACCOSTIN',\n",
       " 'ANNOYING AND ACCOSTING',\n",
       " 'ARSON',\n",
       " 'ASSAULT & BATTERY',\n",
       " 'ASSAULT & BATTERY D/W - KNIFE',\n",
       " 'ASSAULT & BATTERY D/W - OTHER',\n",
       " 'ASSAULT & BATTERY D/W - OTHER ON POLICE OFFICER',\n",
       " 'ASSAULT - AGGRAVATED',\n",
       " 'ASSAULT - AGGRAVATED - BATTERY',\n",
       " 'ASSAULT - SIMPLE',\n",
       " 'ASSAULT D/W - KNIFE ON POLICE OFFICER',\n",
       " 'ASSAULT D/W - OTHER',\n",
       " 'ASSAULT SIMPLE - BATTERY',\n",
       " 'AUTO THEFT',\n",
       " 'AUTO THEFT - LEASED/RENTED VEHICLE',\n",
       " 'AUTO THEFT - MOTORCYCLE / SCOOTER',\n",
       " 'AUTO THEFT - OUTSIDE - RECOVERED IN BOSTON',\n",
       " 'AUTO THEFT - RECOVERED IN BY POLICE',\n",
       " 'AUTO THEFT LEASE/RENT VEHICLE',\n",
       " 'AUTO THEFT OTHER',\n",
       " 'B&E NON-RESIDENCE DAY - FORCIBLE',\n",
       " 'B&E NON-RESIDENCE DAY - NO FORCE',\n",
       " 'B&E NON-RESIDENCE DAY - NO PROP TAKEN',\n",
       " 'B&E NON-RESIDENCE NIGHT - FORCE',\n",
       " 'B&E RESIDENCE DAY - NO FORCE',\n",
       " 'B&E RESIDENCE DAY - NO PROP TAKEN',\n",
       " 'B&E RESIDENCE NIGHT - ATTEMPT FORCE',\n",
       " 'BALLISTICS EVIDENCE/FOUND',\n",
       " 'BIOLOGICAL THREATS',\n",
       " 'BOMB THREAT',\n",
       " 'BURGLARY - COMMERICAL - ATTEMPT',\n",
       " 'BURGLARY - COMMERICAL - FORCE',\n",
       " 'BURGLARY - COMMERICAL - NO FORCE',\n",
       " 'BURGLARY - OTHER - ATTEMPT',\n",
       " 'BURGLARY - OTHER - FORCE',\n",
       " 'BURGLARY - OTHER - NO FORCE',\n",
       " 'BURGLARY - RESIDENTIAL - ATTEMPT',\n",
       " 'BURGLARY - RESIDENTIAL - FORCE',\n",
       " 'BURGLARY - RESIDENTIAL - NO FORCE',\n",
       " 'CHILD ABANDONMENT (NO ASSAULT)',\n",
       " 'CHILD ABUSE',\n",
       " 'CHILD ENDANGERMENT',\n",
       " 'CHILD ENDANGERMENT (NO ASSAULT)',\n",
       " 'CHINS',\n",
       " 'CONSPIRACY EXCEPT DRUG LAW',\n",
       " 'CONTRIBUTING TO DELINQUENCY OF MINOR',\n",
       " 'CRIMINAL HARASSMENT',\n",
       " 'CUSTODIAL KIDNAPPING',\n",
       " 'DANGEROUS OR HAZARDOUS CONDITION',\n",
       " 'DEATH INVESTIGATION',\n",
       " 'DEMONSTRATIONS/RIOT',\n",
       " 'DISORDERLY CONDUCT',\n",
       " 'DISORDERLY PERSON',\n",
       " 'DISTURBING THE PEACE',\n",
       " 'DRUGS - CLASS A TRAFFICKING OVER 18 GRAMS',\n",
       " 'DRUGS - CLASS B TRAFFICKING OVER 18 GRAMS',\n",
       " 'DRUGS - CLASS D TRAFFICKING OVER 50 GRAMS',\n",
       " 'DRUGS - CONSP TO VIOL CONTROLLED SUBSTANCE',\n",
       " 'DRUGS - GLUE INHALATION',\n",
       " 'DRUGS - OTHER',\n",
       " 'DRUGS - POSS CLASS A - HEROIN, ETC.',\n",
       " 'DRUGS - POSS CLASS A - HEROIN, ETC. ',\n",
       " 'DRUGS - POSS CLASS A - INTENT TO MFR DIST DISP',\n",
       " 'DRUGS - POSS CLASS B - COCAINE, ETC.',\n",
       " 'DRUGS - POSS CLASS B - INTENT TO MFR DIST DISP',\n",
       " 'DRUGS - POSS CLASS C',\n",
       " 'DRUGS - POSS CLASS C - INTENT TO MFR DIST DISP',\n",
       " 'DRUGS - POSS CLASS D',\n",
       " 'DRUGS - POSS CLASS D - INTENT MFR DIST DISP',\n",
       " 'DRUGS - POSS CLASS D - INTENT TO MFR DIST DISP',\n",
       " 'DRUGS - POSS CLASS D - MARIJUANA, ETC.',\n",
       " 'DRUGS - POSS CLASS E',\n",
       " 'DRUGS - POSS CLASS E - INTENT TO MFR DIST DISP',\n",
       " 'DRUGS - POSS CLASS E INTENT TO MF DIST DISP',\n",
       " 'DRUGS - POSSESSION',\n",
       " 'DRUGS - POSSESSION OF DRUG PARAPHANALIA',\n",
       " 'DRUGS - SALE / MANUFACTURING',\n",
       " 'DRUGS - SICK ASSIST - HEROIN',\n",
       " 'DRUGS - SICK ASSIST - OTHER HARMFUL DRUG',\n",
       " 'DRUGS - SICK ASSIST - OTHER NARCOTIC',\n",
       " 'EMBEZZLEMENT',\n",
       " 'EVADING FARE',\n",
       " 'EXPLOSIVES - POSSESSION OR USE',\n",
       " 'EXPLOSIVES - TURNED IN OR FOUND',\n",
       " 'EXTORTION OR BLACKMAIL',\n",
       " 'FIRE REPORT - CAR, BRUSH, ETC.',\n",
       " 'FIRE REPORT - HOUSE, BUILDING, ETC.',\n",
       " 'FIRE REPORT/ALARM - FALSE',\n",
       " 'FIREARM/WEAPON - ACCIDENTAL INJURY / DEATH',\n",
       " 'FIREARM/WEAPON - CARRY - SELL - RENT',\n",
       " 'FIREARM/WEAPON - FOUND OR CONFISCATED',\n",
       " 'FIREARM/WEAPON - LOST',\n",
       " 'FIREARM/WEAPON - POSSESSION OF DANGEROUS',\n",
       " 'FORGERY / COUNTERFEITING',\n",
       " 'FORGERY OR UTTERING',\n",
       " 'FRAUD - CREDIT CARD / ATM FRAUD',\n",
       " 'FRAUD - FALSE PRETENSE',\n",
       " 'FRAUD - FALSE PRETENSE / SCHEME',\n",
       " 'FRAUD - IMPERSONATION',\n",
       " 'FRAUD - WELFARE',\n",
       " 'FRAUD - WIRE',\n",
       " 'FRAUDS - ALL OTHER',\n",
       " 'FUGITIVE FROM JUSTICE',\n",
       " 'GAMBLING - BETTING / WAGERING',\n",
       " 'GATHERING CAUSING ANNOYANCE',\n",
       " 'GRAFFITI',\n",
       " 'HARASSMENT',\n",
       " 'HARBOR INCIDENT / VIOLATION',\n",
       " 'HOME INVASION',\n",
       " 'HUMAN TRAFFICKING - COMMERCIAL SEX ACTS',\n",
       " 'HUMAN TRAFFICKING - INVOLUNTARY SERVITUDE',\n",
       " 'INJURY BICYCLE NO M/V INVOLVED',\n",
       " 'INTIMIDATING WITNESS',\n",
       " 'INVESTIGATE PERSON',\n",
       " 'INVESTIGATE PROPERTY',\n",
       " 'INVESTIGATION FOR ANOTHER AGENCY',\n",
       " 'KIDNAPPING - ENTICING OR ATTEMPTED',\n",
       " 'KIDNAPPING/CUSTODIAL KIDNAPPING',\n",
       " 'KILLING OF FELON BY POLICE',\n",
       " 'LANDLORD - TENANT SERVICE',\n",
       " 'LARCENY ALL OTHERS',\n",
       " 'LARCENY BICYCLE $200 & OVER',\n",
       " 'LARCENY IN A BUILDING $200 & OVER',\n",
       " 'LARCENY IN A BUILDING $50 TO $199',\n",
       " 'LARCENY IN A BUILDING UNDER $50',\n",
       " 'LARCENY NON-ACCESSORY FROM VEH. $50 TO $199',\n",
       " 'LARCENY OTHER $200 & OVER',\n",
       " 'LARCENY OTHER $50 TO $199',\n",
       " 'LARCENY OTHER UNDER $50',\n",
       " 'LARCENY PICK-POCKET',\n",
       " 'LARCENY PURSE SNATCH - NO FORCE ',\n",
       " 'LARCENY SHOPLIFTING',\n",
       " 'LARCENY SHOPLIFTING $200 & OVER',\n",
       " 'LARCENY SHOPLIFTING $50 TO $199',\n",
       " 'LARCENY SHOPLIFTING UNDER $50',\n",
       " 'LARCENY THEFT FROM BUILDING',\n",
       " 'LARCENY THEFT FROM COIN-OP MACHINE',\n",
       " 'LARCENY THEFT FROM MV - NON-ACCESSORY',\n",
       " 'LARCENY THEFT OF BICYCLE',\n",
       " 'LARCENY THEFT OF MV PARTS & ACCESSORIES',\n",
       " 'LICENSE PREMISE VIOLATION',\n",
       " 'LIQUOR - DRINKING IN PUBLIC',\n",
       " 'LIQUOR LAW VIOLATION',\n",
       " 'M/V - LEAVING SCENE - PERSONAL INJURY',\n",
       " 'M/V - LEAVING SCENE - PROPERTY DAMAGE',\n",
       " 'M/V ACCIDENT - INVOLVING BICYCLE - NO INJURY',\n",
       " 'M/V ACCIDENT - INVOLVING PEDESTRIAN - NO INJURY',\n",
       " 'M/V ACCIDENT - INVOLVING \\xa0BICYCLE - INJURY',\n",
       " 'M/V ACCIDENT - OTHER',\n",
       " 'M/V ACCIDENT - OTHER CITY VEHICLE',\n",
       " 'M/V ACCIDENT - PERSONAL INJURY',\n",
       " 'M/V ACCIDENT - POLICE VEHICLE',\n",
       " 'M/V ACCIDENT - PROPERTY \\xa0DAMAGE',\n",
       " 'M/V ACCIDENT INVOLVING PEDESTRIAN - INJURY',\n",
       " 'M/V PLATES - LOST',\n",
       " 'MANSLAUGHTER - NON-VEHICLE - NEGLIGENCE',\n",
       " 'MANSLAUGHTER - VEHICLE - NEGLIGENCE',\n",
       " 'MISSING PERSON',\n",
       " 'MISSING PERSON - LOCATED',\n",
       " 'MISSING PERSON - NOT REPORTED - LOCATED',\n",
       " 'MURDER, NON-NEGLIGIENT MANSLAUGHTER',\n",
       " 'NOISY PARTY/RADIO-ARREST',\n",
       " 'NOISY PARTY/RADIO-NO ARREST',\n",
       " 'OBSCENE MATERIALS - PORNOGRAPHY',\n",
       " 'OBSCENE PHONE CALLS',\n",
       " 'OPERATING UNDER THE INFLUENCE ALCOHOL',\n",
       " 'OPERATING UNDER THE INFLUENCE DRUGS',\n",
       " 'OTHER OFFENSE',\n",
       " 'POSSESSION OF BURGLARIOUS TOOLS',\n",
       " 'PRISONER - SUICIDE / SUICIDE ATTEMPT',\n",
       " 'PRISONER ATTEMPT TO RESCUE',\n",
       " 'PRISONER ESCAPE / ESCAPE & RECAPTURE',\n",
       " 'PROPERTY - ACCIDENTAL DAMAGE',\n",
       " 'PROPERTY - CONCEALING LEASED',\n",
       " 'PROPERTY - FOUND',\n",
       " 'PROPERTY - LOST',\n",
       " 'PROPERTY - LOST THEN LOCATED',\n",
       " 'PROPERTY - MISSING',\n",
       " 'PROPERTY - RECEIVING STOLEN',\n",
       " 'PROPERTY - STOLEN THEN RECOVERED',\n",
       " 'PROSTITUTE - COMMON NIGHTWALKER',\n",
       " 'PROSTITUTION',\n",
       " 'PROSTITUTION - ASSISTING OR PROMOTING',\n",
       " 'PROSTITUTION - COMMON NIGHTWALKER',\n",
       " 'PROSTITUTION - SOLICITING',\n",
       " 'PROTECTIVE CUSTODY / SAFEKEEPING',\n",
       " 'RECOVERED - MV RECOVERED IN BOSTON (STOLEN OUTSIDE BOSTON)',\n",
       " 'RECOVERED STOLEN PLATE',\n",
       " 'REPORT AFFECTING OTHER DEPTS.',\n",
       " 'ROBBERY - BANK',\n",
       " 'ROBBERY - CAR JACKING',\n",
       " 'ROBBERY - COMMERCIAL',\n",
       " 'ROBBERY - HOME INVASION',\n",
       " 'ROBBERY - KNIFE - STREET',\n",
       " 'ROBBERY - OTHER',\n",
       " 'ROBBERY - STREET',\n",
       " 'ROBBERY - UNARMED - CHAIN STORE',\n",
       " 'ROBBERY - UNARMED - STREET',\n",
       " 'ROBBERY ATTEMPT - KNIFE - BANK',\n",
       " 'SEARCH WARRANT',\n",
       " 'SERVICE TO OTHER PD INSIDE OF MA.',\n",
       " 'SERVICE TO OTHER PD OUTSIDE OF MA.',\n",
       " 'SICK/INJURED/MEDICAL - PERSON',\n",
       " 'SICK/INJURED/MEDICAL - POLICE',\n",
       " 'STALKING',\n",
       " 'STOLEN PROPERTY - BUYING / RECEIVING / POSSESSING',\n",
       " 'SUDDEN DEATH',\n",
       " 'SUICIDE / SUICIDE ATTEMPT',\n",
       " 'THREATS TO DO BODILY HARM',\n",
       " 'TOWED MOTOR VEHICLE',\n",
       " 'TRESPASSING',\n",
       " 'TRUANCY / RUNAWAY',\n",
       " 'VAL - OPERATING AFTER REV/SUSP.',\n",
       " 'VAL - OPERATING UNREG/UNINS \\xa0CAR',\n",
       " 'VAL - OPERATING W/O AUTHORIZATION LAWFUL',\n",
       " 'VAL - OPERATING WITHOUT LICENSE',\n",
       " 'VAL - VIOLATION OF AUTO LAW - OTHER',\n",
       " 'VANDALISM',\n",
       " 'VERBAL DISPUTE',\n",
       " 'VIOL. OF RESTRAINING ORDER W ARREST',\n",
       " 'VIOL. OF RESTRAINING ORDER W NO ARREST',\n",
       " 'VIOLATION - CITY ORDINANCE',\n",
       " 'VIOLATION - CITY ORDINANCE CONSTRUCTION PERMIT',\n",
       " 'VIOLATION - HAWKER AND PEDDLER',\n",
       " 'VIOLATION - RESTRAINING ORDER',\n",
       " 'WARRANT ARREST',\n",
       " 'WEAPON - FIREARM - CARRYING / POSSESSING, ETC',\n",
       " 'WEAPON - FIREARM - OTHER VIOLATION',\n",
       " 'WEAPON - FIREARM - SALE / TRAFFICKING',\n",
       " 'WEAPON - OTHER - CARRYING / POSSESSING, ETC',\n",
       " 'WEAPON - OTHER - OTHER VIOLATION'}"
      ]
     },
     "execution_count": 10,
     "metadata": {},
     "output_type": "execute_result"
    }
   ],
   "source": [
    "col_values"
   ]
  },
  {
   "cell_type": "markdown",
   "metadata": {},
   "source": [
    "## Creating The Table"
   ]
  },
  {
   "cell_type": "code",
   "execution_count": 11,
   "metadata": {},
   "outputs": [
    {
     "name": "stdout",
     "output_type": "stream",
     "text": [
      "['incident_number', 'offense_code', 'description', 'date', 'day_of_the_week', 'lat', 'long']\n",
      "['1', '619', 'LARCENY ALL OTHERS', '2018-09-02', 'Sunday', '42.35779134', '-71.13937053']\n"
     ]
    }
   ],
   "source": [
    "print(col_headers)\n",
    "print(first_row)"
   ]
  },
  {
   "cell_type": "markdown",
   "metadata": {},
   "source": [
    "I have chosen to use the following datatypes for the various columns in the boston crimes dataset. \n",
    "- incident_number: integer\n",
    "- offense_code: integer\n",
    "- description: VARCHAR(60)\n",
    "- date: datetime\n",
    "- day_of_the_week : enumerate\n",
    "- lat: decimal\n",
    "- long: decimal"
   ]
  },
  {
   "cell_type": "code",
   "execution_count": 12,
   "metadata": {},
   "outputs": [
    {
     "ename": "DuplicateObject",
     "evalue": "type \"weekday\" already exists\n",
     "output_type": "error",
     "traceback": [
      "\u001b[0;31m---------------------------------------------------------------------------\u001b[0m",
      "\u001b[0;31mDuplicateObject\u001b[0m                           Traceback (most recent call last)",
      "\u001b[0;32m<ipython-input-12-3af549c0583e>\u001b[0m in \u001b[0;36m<module>\u001b[0;34m\u001b[0m\n\u001b[1;32m      1\u001b[0m \u001b[0;31m#creating an enumerated datatype for the day_of_the_week column\u001b[0m\u001b[0;34m\u001b[0m\u001b[0;34m\u001b[0m\u001b[0;34m\u001b[0m\u001b[0m\n\u001b[1;32m      2\u001b[0m \u001b[0mweekday_tuple\u001b[0m \u001b[0;34m=\u001b[0m \u001b[0mtuple\u001b[0m\u001b[0;34m(\u001b[0m\u001b[0mget_col_value_set\u001b[0m\u001b[0;34m(\u001b[0m\u001b[0;34m\"boston.csv\"\u001b[0m\u001b[0;34m,\u001b[0m \u001b[0;36m4\u001b[0m\u001b[0;34m)\u001b[0m\u001b[0;34m)\u001b[0m\u001b[0;34m\u001b[0m\u001b[0;34m\u001b[0m\u001b[0m\n\u001b[0;32m----> 3\u001b[0;31m cur.execute('''\n\u001b[0m\u001b[1;32m      4\u001b[0m     \u001b[0mCREATE\u001b[0m \u001b[0mTYPE\u001b[0m \u001b[0mweekday\u001b[0m\u001b[0;34m\u001b[0m\u001b[0;34m\u001b[0m\u001b[0m\n\u001b[1;32m      5\u001b[0m     \u001b[0mAS\u001b[0m \u001b[0mENUM\u001b[0m \u001b[0;34m(\u001b[0m\u001b[0;34m%\u001b[0m\u001b[0ms\u001b[0m\u001b[0;34m,\u001b[0m\u001b[0;34m%\u001b[0m\u001b[0ms\u001b[0m\u001b[0;34m,\u001b[0m\u001b[0;34m%\u001b[0m\u001b[0ms\u001b[0m\u001b[0;34m,\u001b[0m\u001b[0;34m%\u001b[0m\u001b[0ms\u001b[0m\u001b[0;34m,\u001b[0m\u001b[0;34m%\u001b[0m\u001b[0ms\u001b[0m\u001b[0;34m,\u001b[0m\u001b[0;34m%\u001b[0m\u001b[0ms\u001b[0m\u001b[0;34m,\u001b[0m\u001b[0;34m%\u001b[0m\u001b[0ms\u001b[0m\u001b[0;34m)\u001b[0m\u001b[0;34m;\u001b[0m\u001b[0;34m\u001b[0m\u001b[0;34m\u001b[0m\u001b[0m\n",
      "\u001b[0;31mDuplicateObject\u001b[0m: type \"weekday\" already exists\n"
     ]
    }
   ],
   "source": [
    "#creating an enumerated datatype for the day_of_the_week column\n",
    "weekday_tuple = tuple(get_col_value_set(\"boston.csv\", 4))\n",
    "cur.execute('''\n",
    "    CREATE TYPE weekday  \n",
    "    AS ENUM (%s,%s,%s,%s,%s,%s,%s);\n",
    "''',weekday_tuple)"
   ]
  },
  {
   "cell_type": "code",
   "execution_count": 13,
   "metadata": {},
   "outputs": [
    {
     "data": {
      "text/plain": [
       "['incident_number',\n",
       " 'offense_code',\n",
       " 'description',\n",
       " 'date',\n",
       " 'day_of_the_week',\n",
       " 'lat',\n",
       " 'long']"
      ]
     },
     "execution_count": 13,
     "metadata": {},
     "output_type": "execute_result"
    }
   ],
   "source": [
    "col_headers"
   ]
  },
  {
   "cell_type": "code",
   "execution_count": 14,
   "metadata": {},
   "outputs": [
    {
     "ename": "DuplicateTable",
     "evalue": "relation \"boston_crimes\" already exists\n",
     "output_type": "error",
     "traceback": [
      "\u001b[0;31m---------------------------------------------------------------------------\u001b[0m",
      "\u001b[0;31mDuplicateTable\u001b[0m                            Traceback (most recent call last)",
      "\u001b[0;32m<ipython-input-14-3862fc6415f6>\u001b[0m in \u001b[0;36m<module>\u001b[0;34m\u001b[0m\n\u001b[1;32m      1\u001b[0m \u001b[0;31m#creating a table called crimes.boston_crimes\u001b[0m\u001b[0;34m\u001b[0m\u001b[0;34m\u001b[0m\u001b[0;34m\u001b[0m\u001b[0m\n\u001b[0;32m----> 2\u001b[0;31m cur.execute('''\n\u001b[0m\u001b[1;32m      3\u001b[0m     CREATE TABLE crimes.boston_crimes (\n\u001b[1;32m      4\u001b[0m     \u001b[0mincident_number\u001b[0m \u001b[0mINTEGER\u001b[0m \u001b[0mPRIMARY\u001b[0m \u001b[0mKEY\u001b[0m\u001b[0;34m,\u001b[0m\u001b[0;34m\u001b[0m\u001b[0;34m\u001b[0m\u001b[0m\n\u001b[1;32m      5\u001b[0m     \u001b[0moffense_code\u001b[0m \u001b[0mINTEGER\u001b[0m\u001b[0;34m,\u001b[0m\u001b[0;34m\u001b[0m\u001b[0;34m\u001b[0m\u001b[0m\n",
      "\u001b[0;31mDuplicateTable\u001b[0m: relation \"boston_crimes\" already exists\n"
     ]
    }
   ],
   "source": [
    "#creating a table called crimes.boston_crimes\n",
    "cur.execute('''\n",
    "    CREATE TABLE crimes.boston_crimes (\n",
    "    incident_number INTEGER PRIMARY KEY,\n",
    "    offense_code INTEGER,\n",
    "    description VARCHAR(60),\n",
    "    date DATE,\n",
    "    day_of_the_week weekday,\n",
    "    lat decimal,\n",
    "    long decimal\n",
    "    );\n",
    "''')\n"
   ]
  },
  {
   "cell_type": "markdown",
   "metadata": {},
   "source": [
    "## Loading The Data"
   ]
  },
  {
   "cell_type": "code",
   "execution_count": 15,
   "metadata": {},
   "outputs": [
    {
     "ename": "UniqueViolation",
     "evalue": "duplicate key value violates unique constraint \"boston_crimes_pkey\"\nDETAIL:  Key (incident_number)=(1) already exists.\nCONTEXT:  COPY boston_crimes, line 2\n",
     "output_type": "error",
     "traceback": [
      "\u001b[0;31m---------------------------------------------------------------------------\u001b[0m",
      "\u001b[0;31mUniqueViolation\u001b[0m                           Traceback (most recent call last)",
      "\u001b[0;32m<ipython-input-15-6f675dd13dbf>\u001b[0m in \u001b[0;36m<module>\u001b[0;34m\u001b[0m\n\u001b[1;32m      1\u001b[0m \u001b[0;32mwith\u001b[0m \u001b[0mopen\u001b[0m\u001b[0;34m(\u001b[0m\u001b[0;34m'boston.csv'\u001b[0m\u001b[0;34m,\u001b[0m\u001b[0;34m'r'\u001b[0m\u001b[0;34m)\u001b[0m \u001b[0;32mas\u001b[0m \u001b[0mf\u001b[0m\u001b[0;34m:\u001b[0m\u001b[0;34m\u001b[0m\u001b[0;34m\u001b[0m\u001b[0m\n\u001b[0;32m----> 2\u001b[0;31m     cur.copy_expert('''\n\u001b[0m\u001b[1;32m      3\u001b[0m         \u001b[0mCOPY\u001b[0m \u001b[0mcrimes\u001b[0m\u001b[0;34m.\u001b[0m\u001b[0mboston_crimes\u001b[0m\u001b[0;34m\u001b[0m\u001b[0;34m\u001b[0m\u001b[0m\n\u001b[1;32m      4\u001b[0m         \u001b[0mFROM\u001b[0m \u001b[0mSTDIN\u001b[0m \u001b[0mWITH\u001b[0m \u001b[0mCSV\u001b[0m \u001b[0mHEADER\u001b[0m\u001b[0;34m\u001b[0m\u001b[0;34m\u001b[0m\u001b[0m\n\u001b[1;32m      5\u001b[0m     ''',f)\n",
      "\u001b[0;31mUniqueViolation\u001b[0m: duplicate key value violates unique constraint \"boston_crimes_pkey\"\nDETAIL:  Key (incident_number)=(1) already exists.\nCONTEXT:  COPY boston_crimes, line 2\n"
     ]
    }
   ],
   "source": [
    "with open('boston.csv','r') as f:\n",
    "    cur.copy_expert('''\n",
    "        COPY crimes.boston_crimes \n",
    "        FROM STDIN WITH CSV HEADER\n",
    "    ''',f)"
   ]
  },
  {
   "cell_type": "code",
   "execution_count": 17,
   "metadata": {},
   "outputs": [
    {
     "data": {
      "text/plain": [
       "298329"
      ]
     },
     "execution_count": 17,
     "metadata": {},
     "output_type": "execute_result"
    }
   ],
   "source": [
    "cur.execute('SELECT * FROM crimes.boston_crimes;')\n",
    "len(cur.fetchall())"
   ]
  },
  {
   "cell_type": "markdown",
   "metadata": {},
   "source": [
    "From above we can see that we have all the data now loaded in our newly created table."
   ]
  },
  {
   "cell_type": "markdown",
   "metadata": {},
   "source": [
    "Now our database should look like so:\n",
    "![database after loading data](https://dq-content.s3.amazonaws.com/250/table_created.png)"
   ]
  },
  {
   "cell_type": "markdown",
   "metadata": {},
   "source": [
    "## Revoking Public Privileges"
   ]
  },
  {
   "cell_type": "code",
   "execution_count": 18,
   "metadata": {},
   "outputs": [],
   "source": [
    "cur.execute('REVOKE ALL ON SCHEMA public FROM public;')"
   ]
  },
  {
   "cell_type": "code",
   "execution_count": 19,
   "metadata": {},
   "outputs": [],
   "source": [
    "cur.execute('REVOKE ALL ON DATABASE crime_db FROM public;')"
   ]
  },
  {
   "cell_type": "markdown",
   "metadata": {},
   "source": [
    "After revoking all privileges from the public group on the database and on the public schema, we can now go ahead and create our two user groups: **readonly** and **readwrite**."
   ]
  },
  {
   "cell_type": "markdown",
   "metadata": {},
   "source": [
    "## Creating User Groups"
   ]
  },
  {
   "cell_type": "code",
   "execution_count": 24,
   "metadata": {},
   "outputs": [
    {
     "ename": "DuplicateObject",
     "evalue": "role \"readonly\" already exists\n",
     "output_type": "error",
     "traceback": [
      "\u001b[0;31m---------------------------------------------------------------------------\u001b[0m",
      "\u001b[0;31mDuplicateObject\u001b[0m                           Traceback (most recent call last)",
      "\u001b[0;32m<ipython-input-24-2a973d4f772d>\u001b[0m in \u001b[0;36m<module>\u001b[0;34m\u001b[0m\n\u001b[1;32m      1\u001b[0m \u001b[0;31m#creating the readonly group\u001b[0m\u001b[0;34m\u001b[0m\u001b[0;34m\u001b[0m\u001b[0;34m\u001b[0m\u001b[0m\n\u001b[0;32m----> 2\u001b[0;31m cur.execute('''\n\u001b[0m\u001b[1;32m      3\u001b[0m     \u001b[0mCREATE\u001b[0m \u001b[0mGROUP\u001b[0m \u001b[0mreadonly\u001b[0m \u001b[0mNOLOGIN\u001b[0m\u001b[0;34m;\u001b[0m\u001b[0;34m\u001b[0m\u001b[0;34m\u001b[0m\u001b[0m\n\u001b[1;32m      4\u001b[0m ''')\n\u001b[1;32m      5\u001b[0m \u001b[0;34m\u001b[0m\u001b[0m\n",
      "\u001b[0;31mDuplicateObject\u001b[0m: role \"readonly\" already exists\n"
     ]
    }
   ],
   "source": [
    "#creating the readonly group\n",
    "cur.execute('''\n",
    "    CREATE GROUP readonly NOLOGIN;\n",
    "''')\n",
    "\n",
    "#creating the readwrite group\n",
    "cur.execute('''\n",
    "    CREATE GROUP readwrite NOLOGIN;\n",
    "''')\n",
    "\n",
    "#granting CONNECT privileges\n",
    "cur.execute('''\n",
    "    GRANT CONNECT ON DATABASE crime_db TO readonly;\n",
    "''')\n",
    "cur.execute('''\n",
    "    GRANT CONNECT ON DATABASE crime_db TO readwrite;\n",
    "''')\n",
    "\n",
    "#granting USAGE privileges\n",
    "cur.execute('''\n",
    "    GRANT USAGE ON SCHEMA crimes TO readonly;\n",
    "''')\n",
    "cur.execute('''\n",
    "    GRANT USAGE ON SCHEMA crimes TO readwrite;\n",
    "''')\n",
    "\n",
    "#granting group specific privileges on all tables in the crimes\n",
    "#schema\n",
    "cur.execute('''\n",
    "    GRANT SELECT ON ALL TABLES IN SCHEMA crimes TO readonly;\n",
    "''')\n",
    "cur.execute('''\n",
    "    GRANT SELECT, INSERT, DELETE, UPDATE \n",
    "    ON ALL TABLES IN SCHEMA crimes TO readwrite;\n",
    "''')"
   ]
  },
  {
   "cell_type": "markdown",
   "metadata": {},
   "source": [
    "At the moment a high-level picture of our database looks like so:\n",
    "![database after creating user groups](https://dq-content.s3.amazonaws.com/250/user_groups.png)"
   ]
  },
  {
   "cell_type": "markdown",
   "metadata": {},
   "source": [
    "## Creating Users"
   ]
  },
  {
   "cell_type": "code",
   "execution_count": 28,
   "metadata": {},
   "outputs": [
    {
     "ename": "InvalidGrantOperation",
     "evalue": "role \"readwrite\" is a member of role \"data_scientist\"\n",
     "output_type": "error",
     "traceback": [
      "\u001b[0;31m---------------------------------------------------------------------------\u001b[0m",
      "\u001b[0;31mInvalidGrantOperation\u001b[0m                     Traceback (most recent call last)",
      "\u001b[0;32m<ipython-input-28-cd406c0df723>\u001b[0m in \u001b[0;36m<module>\u001b[0;34m\u001b[0m\n\u001b[1;32m     11\u001b[0m \u001b[0;31m#     GRANT readonly TO data_analyst;\u001b[0m\u001b[0;34m\u001b[0m\u001b[0;34m\u001b[0m\u001b[0;34m\u001b[0m\u001b[0m\n\u001b[1;32m     12\u001b[0m \u001b[0;31m# ''')\u001b[0m\u001b[0;34m\u001b[0m\u001b[0;34m\u001b[0m\u001b[0;34m\u001b[0m\u001b[0m\n\u001b[0;32m---> 13\u001b[0;31m cur.execute('''\n\u001b[0m\u001b[1;32m     14\u001b[0m     \u001b[0mGRANT\u001b[0m \u001b[0mreadwrite\u001b[0m \u001b[0mTO\u001b[0m \u001b[0mdata_scientist\u001b[0m\u001b[0;34m;\u001b[0m\u001b[0;34m\u001b[0m\u001b[0;34m\u001b[0m\u001b[0m\n\u001b[1;32m     15\u001b[0m ''')\n",
      "\u001b[0;31mInvalidGrantOperation\u001b[0m: role \"readwrite\" is a member of role \"data_scientist\"\n"
     ]
    }
   ],
   "source": [
    "#creating users data_analyst and data_scientist\n",
    "cur.execute('''\n",
    "    CREATE USER data_analyst WITH PASSWORD 'secret1';\n",
    "''')\n",
    "cur.execute('''\n",
    "    CREATE USER data_scientist WITH PASSWORD 'secret2';\n",
    "''')\n",
    "\n",
    "#assigning the users above to groups\n",
    "cur.execute('''\n",
    "    GRANT readonly TO data_analyst;\n",
    "''')\n",
    "cur.execute('''\n",
    "    GRANT readwrite TO data_scientist;\n",
    "''')"
   ]
  },
  {
   "cell_type": "code",
   "execution_count": null,
   "metadata": {},
   "outputs": [],
   "source": []
  }
 ],
 "metadata": {
  "kernelspec": {
   "display_name": "Python 3",
   "language": "python",
   "name": "python3"
  },
  "language_info": {
   "codemirror_mode": {
    "name": "ipython",
    "version": 3
   },
   "file_extension": ".py",
   "mimetype": "text/x-python",
   "name": "python",
   "nbconvert_exporter": "python",
   "pygments_lexer": "ipython3",
   "version": "3.8.2"
  }
 },
 "nbformat": 4,
 "nbformat_minor": 2
}
