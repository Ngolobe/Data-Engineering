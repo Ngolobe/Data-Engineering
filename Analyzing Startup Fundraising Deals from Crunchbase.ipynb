{
 "cells": [
  {
   "cell_type": "markdown",
   "metadata": {
    "collapsed": true
   },
   "source": [
    "# Analyzing Startup Fundraising Deals From Crunchbase"
   ]
  },
  {
   "cell_type": "markdown",
   "metadata": {},
   "source": [
    "In this guided project, we'll practice using some of the techniques we learned to analyze startup investments from Crunchbase.com.\n",
    "\n",
    "Throughout this project, we'll practice working with different memory constraints. Let's assume we only have 10 megabytes of available memory. While crunchbase-investments.csv consumes 10.3 megabytes of disk space, we know that pandas often requires 4 to 6 times amount of space in memory as the file does on disk (especially when there's many string columns)."
   ]
  },
  {
   "cell_type": "code",
   "execution_count": 14,
   "metadata": {},
   "outputs": [
    {
     "data": {
      "text/plain": [
       "company_country_code          1\n",
       "company_name                  1\n",
       "company_permalink             1\n",
       "company_region                1\n",
       "investor_region               2\n",
       "investor_permalink            2\n",
       "investor_name                 2\n",
       "funded_quarter                3\n",
       "funded_at                     3\n",
       "funded_month                  3\n",
       "funded_year                   3\n",
       "funding_round_type            3\n",
       "company_state_code          492\n",
       "company_city                533\n",
       "company_category_code       643\n",
       "raised_amount_usd          3599\n",
       "investor_country_code     12001\n",
       "investor_city             12480\n",
       "investor_state_code       16809\n",
       "investor_category_code    50427\n",
       "dtype: int64"
      ]
     },
     "execution_count": 14,
     "metadata": {},
     "output_type": "execute_result"
    }
   ],
   "source": [
    "import pandas as pd\n",
    "pd.options.display.max_columns = 99\n",
    "# read the data set into dataframes using 5,000 row chunks \n",
    "# to ensure that each chunk consumes much less than 10 megabytes \n",
    "# of memory\n",
    "crunch_iter = pd.read_csv('crunchbase-investments.csv', \n",
    "                          chunksize=5000, encoding='ISO-8859-1')\n",
    "                          \n",
    "# Across all of the chunks, become familiar with:\n",
    "# Each column's missing value counts\n",
    "mv_list = []\n",
    "for chunk in crunch_iter:\n",
    "    mv_list.append(chunk.isnull().sum())\n",
    "    \n",
    "mv_series = pd.concat(mv_list)\n",
    "mv_series_grouped = mv_series.groupby(mv_series.index).sum()\n",
    "mv_series_grouped.sort_values()"
   ]
  },
  {
   "cell_type": "markdown",
   "metadata": {},
   "source": [
    "Let's now explore the memory footprint."
   ]
  },
  {
   "cell_type": "code",
   "execution_count": 24,
   "metadata": {},
   "outputs": [
    {
     "name": "stdout",
     "output_type": "stream",
     "text": [
      "company_category_code     3421104\n",
      "company_city              3505926\n",
      "company_country_code      3172176\n",
      "company_name              3591326\n",
      "company_permalink         4057788\n",
      "company_region            3411585\n",
      "company_state_code        3106051\n",
      "funded_at                 3542185\n",
      "funded_month              3383584\n",
      "funded_quarter            3383584\n",
      "funded_year                422960\n",
      "funding_round_type        3410707\n",
      "investor_category_code     622424\n",
      "investor_city             2885083\n",
      "investor_country_code     2647292\n",
      "investor_name             3915666\n",
      "investor_permalink        4980548\n",
      "investor_region           3396281\n",
      "investor_state_code       2476607\n",
      "raised_amount_usd          422960\n",
      "dtype: int64\n",
      "\n",
      "\n",
      "56.9876070022583\n"
     ]
    }
   ],
   "source": [
    "crunch_iter = pd.read_csv('crunchbase-investments.csv', \n",
    "                          chunksize=5000, encoding='ISO-8859-1')\n",
    "                          \n",
    "# Across all of the chunks, become familiar with:\n",
    "# Each column's memory footprint\n",
    "mem_list = []\n",
    "for chunk in crunch_iter:\n",
    "    mem_list.append(chunk.memory_usage(deep=True))\n",
    "    \n",
    "mem_series = pd.concat(mem_list)\n",
    "mem_series_grouped = mem_series.groupby(mem_series.index).sum()\n",
    "# We can drop the Index column \n",
    "# because it'll not be useful for analysis\n",
    "mem_series_grouped = mem_series_grouped.drop('Index')\n",
    "mem_total = mem_series_grouped.sum()/(2**20)\n",
    "print(mem_series_grouped, mem_total, sep='\\n\\n\\n')"
   ]
  },
  {
   "cell_type": "code",
   "execution_count": 25,
   "metadata": {},
   "outputs": [
    {
     "data": {
      "text/plain": [
       "['company_name',\n",
       " 'company_category_code',\n",
       " 'company_country_code',\n",
       " 'company_state_code',\n",
       " 'company_region',\n",
       " 'company_city',\n",
       " 'investor_name',\n",
       " 'investor_country_code',\n",
       " 'investor_state_code',\n",
       " 'investor_region',\n",
       " 'investor_city',\n",
       " 'funding_round_type',\n",
       " 'funded_at',\n",
       " 'funded_month',\n",
       " 'funded_quarter',\n",
       " 'funded_year',\n",
       " 'raised_amount_usd']"
      ]
     },
     "execution_count": 25,
     "metadata": {},
     "output_type": "execute_result"
    }
   ],
   "source": [
    "# Drop columns representing URL's or containing \n",
    "# way too many missing values (>90% missing)\n",
    "drop_cols = ['investor_permalink', 'company_permalink', 'investor_category_code']\n",
    "keep_cols = chunk.columns.drop(drop_cols)\n",
    "keep_cols.to_list()"
   ]
  },
  {
   "cell_type": "markdown",
   "metadata": {},
   "source": [
    "# Selecting Data Types\n",
    "\n",
    "let's get familiar with the column types before adding the data into SQLite."
   ]
  },
  {
   "cell_type": "code",
   "execution_count": 47,
   "metadata": {},
   "outputs": [
    {
     "name": "stdout",
     "output_type": "stream",
     "text": [
      "['object', 'object', 'object', 'object', 'object', 'object', 'object', 'object', 'object', 'object', 'object']\n"
     ]
    }
   ],
   "source": [
    "crunch_iter = pd.read_csv('crunchbase-investments.csv', \n",
    "                          chunksize=5000, encoding='ISO-8859-1', \n",
    "                          usecols=keep_cols)\n",
    "crunch_dtypes = {}\n",
    "for chunk in crunch_iter:\n",
    "    for col in chunk.columns:\n",
    "        if col not in crunch_dtypes:\n",
    "            crunch_dtypes[col]= [str(chunk.dtypes[col])]\n",
    "        else:\n",
    "            crunch_dtypes[col].append(str(chunk.dtypes[col]))\n",
    "        \n",
    "print(crunch_dtypes['company_name'])"
   ]
  },
  {
   "cell_type": "markdown",
   "metadata": {},
   "source": [
    "Let's now get the unique column datatypes."
   ]
  },
  {
   "cell_type": "code",
   "execution_count": 45,
   "metadata": {},
   "outputs": [
    {
     "data": {
      "text/plain": [
       "{'company_name': {'object'},\n",
       " 'company_category_code': {'object'},\n",
       " 'company_country_code': {'object'},\n",
       " 'company_state_code': {'object'},\n",
       " 'company_region': {'object'},\n",
       " 'company_city': {'object'},\n",
       " 'investor_name': {'object'},\n",
       " 'investor_country_code': {'float64', 'object'},\n",
       " 'investor_state_code': {'float64', 'object'},\n",
       " 'investor_region': {'object'},\n",
       " 'investor_city': {'float64', 'object'},\n",
       " 'funding_round_type': {'object'},\n",
       " 'funded_at': {'object'},\n",
       " 'funded_month': {'object'},\n",
       " 'funded_quarter': {'object'},\n",
       " 'funded_year': {'float64', 'int64'},\n",
       " 'raised_amount_usd': {'float64'}}"
      ]
     },
     "execution_count": 45,
     "metadata": {},
     "output_type": "execute_result"
    }
   ],
   "source": [
    "unique_dtypes = {}\n",
    "for key in crunch_dtypes:\n",
    "    unique_dtypes[key] = set(crunch_dtypes[key])\n",
    "    \n",
    "unique_dtypes  "
   ]
  },
  {
   "cell_type": "code",
   "execution_count": 46,
   "metadata": {},
   "outputs": [
    {
     "data": {
      "text/html": [
       "<div>\n",
       "<style scoped>\n",
       "    .dataframe tbody tr th:only-of-type {\n",
       "        vertical-align: middle;\n",
       "    }\n",
       "\n",
       "    .dataframe tbody tr th {\n",
       "        vertical-align: top;\n",
       "    }\n",
       "\n",
       "    .dataframe thead th {\n",
       "        text-align: right;\n",
       "    }\n",
       "</style>\n",
       "<table border=\"1\" class=\"dataframe\">\n",
       "  <thead>\n",
       "    <tr style=\"text-align: right;\">\n",
       "      <th></th>\n",
       "      <th>company_name</th>\n",
       "      <th>company_category_code</th>\n",
       "      <th>company_country_code</th>\n",
       "      <th>company_state_code</th>\n",
       "      <th>company_region</th>\n",
       "      <th>company_city</th>\n",
       "      <th>investor_name</th>\n",
       "      <th>investor_country_code</th>\n",
       "      <th>investor_state_code</th>\n",
       "      <th>investor_region</th>\n",
       "      <th>investor_city</th>\n",
       "      <th>funding_round_type</th>\n",
       "      <th>funded_at</th>\n",
       "      <th>funded_month</th>\n",
       "      <th>funded_quarter</th>\n",
       "      <th>funded_year</th>\n",
       "      <th>raised_amount_usd</th>\n",
       "    </tr>\n",
       "  </thead>\n",
       "  <tbody>\n",
       "    <tr>\n",
       "      <th>50000</th>\n",
       "      <td>NuORDER</td>\n",
       "      <td>fashion</td>\n",
       "      <td>USA</td>\n",
       "      <td>CA</td>\n",
       "      <td>Los Angeles</td>\n",
       "      <td>West Hollywood</td>\n",
       "      <td>Mortimer Singer</td>\n",
       "      <td>NaN</td>\n",
       "      <td>NaN</td>\n",
       "      <td>unknown</td>\n",
       "      <td>NaN</td>\n",
       "      <td>series-a</td>\n",
       "      <td>2012-10-01</td>\n",
       "      <td>2012-10</td>\n",
       "      <td>2012-Q4</td>\n",
       "      <td>2012</td>\n",
       "      <td>3060000.0</td>\n",
       "    </tr>\n",
       "    <tr>\n",
       "      <th>50001</th>\n",
       "      <td>ChaCha</td>\n",
       "      <td>advertising</td>\n",
       "      <td>USA</td>\n",
       "      <td>IN</td>\n",
       "      <td>Indianapolis</td>\n",
       "      <td>Carmel</td>\n",
       "      <td>Morton Meyerson</td>\n",
       "      <td>NaN</td>\n",
       "      <td>NaN</td>\n",
       "      <td>unknown</td>\n",
       "      <td>NaN</td>\n",
       "      <td>series-b</td>\n",
       "      <td>2007-10-01</td>\n",
       "      <td>2007-10</td>\n",
       "      <td>2007-Q4</td>\n",
       "      <td>2007</td>\n",
       "      <td>12000000.0</td>\n",
       "    </tr>\n",
       "    <tr>\n",
       "      <th>50002</th>\n",
       "      <td>Binfire</td>\n",
       "      <td>software</td>\n",
       "      <td>USA</td>\n",
       "      <td>FL</td>\n",
       "      <td>Bocat Raton</td>\n",
       "      <td>Bocat Raton</td>\n",
       "      <td>Moshe Ariel</td>\n",
       "      <td>NaN</td>\n",
       "      <td>NaN</td>\n",
       "      <td>unknown</td>\n",
       "      <td>NaN</td>\n",
       "      <td>angel</td>\n",
       "      <td>2008-04-18</td>\n",
       "      <td>2008-04</td>\n",
       "      <td>2008-Q2</td>\n",
       "      <td>2008</td>\n",
       "      <td>500000.0</td>\n",
       "    </tr>\n",
       "    <tr>\n",
       "      <th>50003</th>\n",
       "      <td>Binfire</td>\n",
       "      <td>software</td>\n",
       "      <td>USA</td>\n",
       "      <td>FL</td>\n",
       "      <td>Bocat Raton</td>\n",
       "      <td>Bocat Raton</td>\n",
       "      <td>Moshe Ariel</td>\n",
       "      <td>NaN</td>\n",
       "      <td>NaN</td>\n",
       "      <td>unknown</td>\n",
       "      <td>NaN</td>\n",
       "      <td>angel</td>\n",
       "      <td>2010-01-01</td>\n",
       "      <td>2010-01</td>\n",
       "      <td>2010-Q1</td>\n",
       "      <td>2010</td>\n",
       "      <td>750000.0</td>\n",
       "    </tr>\n",
       "    <tr>\n",
       "      <th>50004</th>\n",
       "      <td>Unified Color</td>\n",
       "      <td>software</td>\n",
       "      <td>USA</td>\n",
       "      <td>CA</td>\n",
       "      <td>SF Bay</td>\n",
       "      <td>South San Frnacisco</td>\n",
       "      <td>Mr. Andrew Oung</td>\n",
       "      <td>NaN</td>\n",
       "      <td>NaN</td>\n",
       "      <td>unknown</td>\n",
       "      <td>NaN</td>\n",
       "      <td>angel</td>\n",
       "      <td>2010-01-01</td>\n",
       "      <td>2010-01</td>\n",
       "      <td>2010-Q1</td>\n",
       "      <td>2010</td>\n",
       "      <td>NaN</td>\n",
       "    </tr>\n",
       "  </tbody>\n",
       "</table>\n",
       "</div>"
      ],
      "text/plain": [
       "        company_name company_category_code company_country_code  \\\n",
       "50000        NuORDER               fashion                  USA   \n",
       "50001         ChaCha           advertising                  USA   \n",
       "50002        Binfire              software                  USA   \n",
       "50003        Binfire              software                  USA   \n",
       "50004  Unified Color              software                  USA   \n",
       "\n",
       "      company_state_code company_region         company_city    investor_name  \\\n",
       "50000                 CA    Los Angeles       West Hollywood  Mortimer Singer   \n",
       "50001                 IN   Indianapolis               Carmel  Morton Meyerson   \n",
       "50002                 FL    Bocat Raton          Bocat Raton      Moshe Ariel   \n",
       "50003                 FL    Bocat Raton          Bocat Raton      Moshe Ariel   \n",
       "50004                 CA         SF Bay  South San Frnacisco  Mr. Andrew Oung   \n",
       "\n",
       "       investor_country_code  investor_state_code investor_region  \\\n",
       "50000                    NaN                  NaN         unknown   \n",
       "50001                    NaN                  NaN         unknown   \n",
       "50002                    NaN                  NaN         unknown   \n",
       "50003                    NaN                  NaN         unknown   \n",
       "50004                    NaN                  NaN         unknown   \n",
       "\n",
       "       investor_city funding_round_type   funded_at funded_month  \\\n",
       "50000            NaN           series-a  2012-10-01      2012-10   \n",
       "50001            NaN           series-b  2007-10-01      2007-10   \n",
       "50002            NaN              angel  2008-04-18      2008-04   \n",
       "50003            NaN              angel  2010-01-01      2010-01   \n",
       "50004            NaN              angel  2010-01-01      2010-01   \n",
       "\n",
       "      funded_quarter  funded_year  raised_amount_usd  \n",
       "50000        2012-Q4         2012          3060000.0  \n",
       "50001        2007-Q4         2007         12000000.0  \n",
       "50002        2008-Q2         2008           500000.0  \n",
       "50003        2010-Q1         2010           750000.0  \n",
       "50004        2010-Q1         2010                NaN  "
      ]
     },
     "execution_count": 46,
     "metadata": {},
     "output_type": "execute_result"
    }
   ],
   "source": [
    "chunk.head()"
   ]
  },
  {
   "cell_type": "markdown",
   "metadata": {},
   "source": [
    "# Loading Chunks Into SQLite\n",
    "\n",
    "Now we're in good shape to start exploring and analyzing the data. The next step is to load each chunk into a table in a SQLite database so we can query the full data set."
   ]
  },
  {
   "cell_type": "code",
   "execution_count": 49,
   "metadata": {},
   "outputs": [],
   "source": [
    "import sqlite3\n",
    "crunch_iter = pd.read_csv('crunchbase-investments.csv', \n",
    "                          chunksize=5000, encoding='ISO-8859-1', \n",
    "                          usecols=keep_cols)\n",
    "conn = sqlite3.connect('crunchbase.db')\n",
    "\n",
    "for chunk in crunch_iter:\n",
    "    chunk.to_sql('investments', conn, if_exists='append', index=False)\n"
   ]
  },
  {
   "cell_type": "markdown",
   "metadata": {},
   "source": [
    "# Next Steps"
   ]
  },
  {
   "cell_type": "markdown",
   "metadata": {},
   "source": [
    "Now that the data is in SQLite, we can use the pandas SQLite workflow we learned in the last mission to explore and analyze startup investments. Remember that each row isn't a unique company, but a unique investment from a single investor. This means that many startups will span multiple rows.\n",
    "\n",
    "Use the pandas SQLite workflow to answer the following questions:\n",
    "\n",
    "- What proportion of the total amount of funds did the top 10% raise? What about the top 1%? Compare these values to the proportions the bottom 10% and bottom 1% raised.\n",
    "- Which category of company attracted the most investments?\n",
    "- Which investor contributed the most money (across all startups)?\n",
    "- Which investors contributed the most money per startup?\n",
    "- Which funding round was the most popular? Which was the least popular?\n",
    "\n",
    "Here are some ideas for further exploration:\n",
    "\n",
    "- Repeat the tasks in this guided project using stricter memory constraints (under 1 megabyte).\n",
    "- Clean and analyze the other Crunchbase data sets from the [https://github.com/datahoarder/crunchbase-october-2013)[same GitHub repo].\n",
    "        - Understand which columns the data sets share, and how the data sets are linked.\n",
    "        - Create a relational database design that links the data sets together and reduces the overall disk space the database file consumes.\n",
    "        - Use pandas to populate each table in the database, create the appropriate indexes, and so on.\n"
   ]
  },
  {
   "cell_type": "code",
   "execution_count": null,
   "metadata": {},
   "outputs": [],
   "source": []
  }
 ],
 "metadata": {
  "anaconda-cloud": {},
  "kernelspec": {
   "display_name": "Python 3",
   "language": "python",
   "name": "python3"
  },
  "language_info": {
   "codemirror_mode": {
    "name": "ipython",
    "version": 3
   },
   "file_extension": ".py",
   "mimetype": "text/x-python",
   "name": "python",
   "nbconvert_exporter": "python",
   "pygments_lexer": "ipython3",
   "version": "3.8.2"
  }
 },
 "nbformat": 4,
 "nbformat_minor": 2
}
